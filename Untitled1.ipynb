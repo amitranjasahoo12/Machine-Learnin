{
 "cells": [
  {
   "cell_type": "code",
   "execution_count": 2,
   "id": "4e1c19bb",
   "metadata": {},
   "outputs": [],
   "source": [
    "import pandas as pd\n",
    "import numpy as np"
   ]
  },
  {
   "cell_type": "code",
   "execution_count": 36,
   "id": "37341d09",
   "metadata": {},
   "outputs": [],
   "source": [
    "num= {\"column-1\": [1,2,3,4,5,6,7,10000],\n",
    "      \"column-2\": [40,20,500,30,8,9,25,9]\n",
    "     }\n",
    "\n",
    "df= pd.DataFrame(num)"
   ]
  },
  {
   "cell_type": "code",
   "execution_count": 37,
   "id": "f842bfaf",
   "metadata": {},
   "outputs": [
    {
     "data": {
      "text/html": [
       "<div>\n",
       "<style scoped>\n",
       "    .dataframe tbody tr th:only-of-type {\n",
       "        vertical-align: middle;\n",
       "    }\n",
       "\n",
       "    .dataframe tbody tr th {\n",
       "        vertical-align: top;\n",
       "    }\n",
       "\n",
       "    .dataframe thead th {\n",
       "        text-align: right;\n",
       "    }\n",
       "</style>\n",
       "<table border=\"1\" class=\"dataframe\">\n",
       "  <thead>\n",
       "    <tr style=\"text-align: right;\">\n",
       "      <th></th>\n",
       "      <th>column-1</th>\n",
       "      <th>column-2</th>\n",
       "    </tr>\n",
       "  </thead>\n",
       "  <tbody>\n",
       "    <tr>\n",
       "      <th>0</th>\n",
       "      <td>1</td>\n",
       "      <td>40</td>\n",
       "    </tr>\n",
       "    <tr>\n",
       "      <th>1</th>\n",
       "      <td>2</td>\n",
       "      <td>20</td>\n",
       "    </tr>\n",
       "    <tr>\n",
       "      <th>2</th>\n",
       "      <td>3</td>\n",
       "      <td>500</td>\n",
       "    </tr>\n",
       "    <tr>\n",
       "      <th>3</th>\n",
       "      <td>4</td>\n",
       "      <td>30</td>\n",
       "    </tr>\n",
       "    <tr>\n",
       "      <th>4</th>\n",
       "      <td>5</td>\n",
       "      <td>8</td>\n",
       "    </tr>\n",
       "    <tr>\n",
       "      <th>5</th>\n",
       "      <td>6</td>\n",
       "      <td>9</td>\n",
       "    </tr>\n",
       "    <tr>\n",
       "      <th>6</th>\n",
       "      <td>7</td>\n",
       "      <td>25</td>\n",
       "    </tr>\n",
       "    <tr>\n",
       "      <th>7</th>\n",
       "      <td>10000</td>\n",
       "      <td>9</td>\n",
       "    </tr>\n",
       "  </tbody>\n",
       "</table>\n",
       "</div>"
      ],
      "text/plain": [
       "   column-1  column-2\n",
       "0         1        40\n",
       "1         2        20\n",
       "2         3       500\n",
       "3         4        30\n",
       "4         5         8\n",
       "5         6         9\n",
       "6         7        25\n",
       "7     10000         9"
      ]
     },
     "execution_count": 37,
     "metadata": {},
     "output_type": "execute_result"
    }
   ],
   "source": [
    "df"
   ]
  },
  {
   "cell_type": "code",
   "execution_count": 38,
   "id": "9908c5a0",
   "metadata": {},
   "outputs": [],
   "source": [
    "outliers=[]\n",
    "def detect_outliers(data):\n",
    "    \n",
    "    threshold=3\n",
    "    mean = np.mean(data)\n",
    "    std =np.std(data)\n",
    "    \n",
    "    \n",
    "    for i in data:\n",
    "        z_score= (i - mean)/std \n",
    "        if np.abs(z_score) > threshold:\n",
    "            outliers.append(i)\n",
    "    return outliers"
   ]
  },
  {
   "cell_type": "code",
   "execution_count": 33,
   "id": "5383b25d",
   "metadata": {},
   "outputs": [
    {
     "data": {
      "text/plain": [
       "[]"
      ]
     },
     "execution_count": 33,
     "metadata": {},
     "output_type": "execute_result"
    }
   ],
   "source": [
    "detect_outliers(df[\"column-2\"])"
   ]
  },
  {
   "cell_type": "code",
   "execution_count": 34,
   "id": "c306a34f",
   "metadata": {},
   "outputs": [
    {
     "name": "stdout",
     "output_type": "stream",
     "text": [
      "   column-1  column-2\n",
      "0         1         1\n",
      "1         2         2\n",
      "2         3         3\n",
      "3         4     10000\n",
      "4         5         4\n",
      "5         6         5\n",
      "6         7         6\n",
      "7     10000         7\n"
     ]
    }
   ],
   "source": [
    "from scipy.stats import zscore\n",
    "z_scores = zscore(df)\n",
    "\n",
    "\n",
    "abs_z_scores = np.abs(z_scores)\n",
    "filtered_entries = (abs_z_scores < 3).all(axis=1)\n",
    "new_df = df[filtered_entries]\n",
    "\n",
    "print(new_df)"
   ]
  },
  {
   "cell_type": "code",
   "execution_count": 39,
   "id": "a61bc9a7",
   "metadata": {},
   "outputs": [
    {
     "name": "stdout",
     "output_type": "stream",
     "text": [
      "Identified outliers: 0\n",
      "Non-outlier observations: 8\n"
     ]
    }
   ],
   "source": [
    "# calculate summary statistics\n",
    "data_mean, data_std = df[\"column-2\"].mean(), df[\"column-2\"].std()\n",
    "\n",
    "\n",
    "# identify outliers\n",
    "\n",
    "cut_off = data_std * 3\n",
    "\n",
    "lower, upper = data_mean - cut_off, data_mean + cut_off\n",
    "\n",
    "# identify outliers\n",
    "\n",
    "outliers = [x for x in df[\"column-2\"] if x < lower or x > upper]\n",
    "print('Identified outliers: %d' % len(outliers))\n",
    "\n",
    "\n",
    "# remove outliers\n",
    "outliers_removed = [x for x in df[\"column-2\"] if x >= lower and x <= upper]\n",
    "print('Non-outlier observations: %d' % len(outliers_removed))"
   ]
  },
  {
   "cell_type": "code",
   "execution_count": 10,
   "id": "fddc6078",
   "metadata": {},
   "outputs": [
    {
     "data": {
      "text/html": [
       "<div>\n",
       "<style scoped>\n",
       "    .dataframe tbody tr th:only-of-type {\n",
       "        vertical-align: middle;\n",
       "    }\n",
       "\n",
       "    .dataframe tbody tr th {\n",
       "        vertical-align: top;\n",
       "    }\n",
       "\n",
       "    .dataframe thead th {\n",
       "        text-align: right;\n",
       "    }\n",
       "</style>\n",
       "<table border=\"1\" class=\"dataframe\">\n",
       "  <thead>\n",
       "    <tr style=\"text-align: right;\">\n",
       "      <th></th>\n",
       "      <th>column-1</th>\n",
       "      <th>column-2</th>\n",
       "    </tr>\n",
       "  </thead>\n",
       "  <tbody>\n",
       "    <tr>\n",
       "      <th>0</th>\n",
       "      <td>0.471637</td>\n",
       "      <td>0.471637</td>\n",
       "    </tr>\n",
       "    <tr>\n",
       "      <th>1</th>\n",
       "      <td>0.440195</td>\n",
       "      <td>0.440195</td>\n",
       "    </tr>\n",
       "    <tr>\n",
       "      <th>2</th>\n",
       "      <td>0.408752</td>\n",
       "      <td>0.408752</td>\n",
       "    </tr>\n",
       "    <tr>\n",
       "      <th>3</th>\n",
       "      <td>0.377310</td>\n",
       "      <td>2.641170</td>\n",
       "    </tr>\n",
       "    <tr>\n",
       "      <th>4</th>\n",
       "      <td>0.345867</td>\n",
       "      <td>0.377310</td>\n",
       "    </tr>\n",
       "    <tr>\n",
       "      <th>5</th>\n",
       "      <td>0.314425</td>\n",
       "      <td>0.345867</td>\n",
       "    </tr>\n",
       "    <tr>\n",
       "      <th>6</th>\n",
       "      <td>0.282982</td>\n",
       "      <td>0.314425</td>\n",
       "    </tr>\n",
       "    <tr>\n",
       "      <th>7</th>\n",
       "      <td>2.641170</td>\n",
       "      <td>0.282982</td>\n",
       "    </tr>\n",
       "  </tbody>\n",
       "</table>\n",
       "</div>"
      ],
      "text/plain": [
       "   column-1  column-2\n",
       "0  0.471637  0.471637\n",
       "1  0.440195  0.440195\n",
       "2  0.408752  0.408752\n",
       "3  0.377310  2.641170\n",
       "4  0.345867  0.377310\n",
       "5  0.314425  0.345867\n",
       "6  0.282982  0.314425\n",
       "7  2.641170  0.282982"
      ]
     },
     "execution_count": 10,
     "metadata": {},
     "output_type": "execute_result"
    }
   ],
   "source": [
    "abs_z_scores"
   ]
  },
  {
   "cell_type": "code",
   "execution_count": 11,
   "id": "9f7ac8f8",
   "metadata": {},
   "outputs": [
    {
     "data": {
      "text/plain": [
       "0    True\n",
       "1    True\n",
       "2    True\n",
       "3    True\n",
       "4    True\n",
       "5    True\n",
       "6    True\n",
       "7    True\n",
       "dtype: bool"
      ]
     },
     "execution_count": 11,
     "metadata": {},
     "output_type": "execute_result"
    }
   ],
   "source": [
    "filtered_entries"
   ]
  },
  {
   "cell_type": "code",
   "execution_count": 12,
   "id": "576f35bf",
   "metadata": {},
   "outputs": [
    {
     "data": {
      "text/html": [
       "<div>\n",
       "<style scoped>\n",
       "    .dataframe tbody tr th:only-of-type {\n",
       "        vertical-align: middle;\n",
       "    }\n",
       "\n",
       "    .dataframe tbody tr th {\n",
       "        vertical-align: top;\n",
       "    }\n",
       "\n",
       "    .dataframe thead th {\n",
       "        text-align: right;\n",
       "    }\n",
       "</style>\n",
       "<table border=\"1\" class=\"dataframe\">\n",
       "  <thead>\n",
       "    <tr style=\"text-align: right;\">\n",
       "      <th></th>\n",
       "      <th>column-1</th>\n",
       "      <th>column-2</th>\n",
       "    </tr>\n",
       "  </thead>\n",
       "  <tbody>\n",
       "    <tr>\n",
       "      <th>0</th>\n",
       "      <td>1</td>\n",
       "      <td>1</td>\n",
       "    </tr>\n",
       "    <tr>\n",
       "      <th>1</th>\n",
       "      <td>2</td>\n",
       "      <td>2</td>\n",
       "    </tr>\n",
       "    <tr>\n",
       "      <th>2</th>\n",
       "      <td>3</td>\n",
       "      <td>3</td>\n",
       "    </tr>\n",
       "    <tr>\n",
       "      <th>3</th>\n",
       "      <td>4</td>\n",
       "      <td>100</td>\n",
       "    </tr>\n",
       "    <tr>\n",
       "      <th>4</th>\n",
       "      <td>5</td>\n",
       "      <td>4</td>\n",
       "    </tr>\n",
       "    <tr>\n",
       "      <th>5</th>\n",
       "      <td>6</td>\n",
       "      <td>5</td>\n",
       "    </tr>\n",
       "    <tr>\n",
       "      <th>6</th>\n",
       "      <td>7</td>\n",
       "      <td>6</td>\n",
       "    </tr>\n",
       "    <tr>\n",
       "      <th>7</th>\n",
       "      <td>100</td>\n",
       "      <td>7</td>\n",
       "    </tr>\n",
       "  </tbody>\n",
       "</table>\n",
       "</div>"
      ],
      "text/plain": [
       "   column-1  column-2\n",
       "0         1         1\n",
       "1         2         2\n",
       "2         3         3\n",
       "3         4       100\n",
       "4         5         4\n",
       "5         6         5\n",
       "6         7         6\n",
       "7       100         7"
      ]
     },
     "execution_count": 12,
     "metadata": {},
     "output_type": "execute_result"
    }
   ],
   "source": [
    "new_df"
   ]
  },
  {
   "cell_type": "code",
   "execution_count": null,
   "id": "0fed5944",
   "metadata": {},
   "outputs": [],
   "source": []
  }
 ],
 "metadata": {
  "kernelspec": {
   "display_name": "Python 3 (ipykernel)",
   "language": "python",
   "name": "python3"
  },
  "language_info": {
   "codemirror_mode": {
    "name": "ipython",
    "version": 3
   },
   "file_extension": ".py",
   "mimetype": "text/x-python",
   "name": "python",
   "nbconvert_exporter": "python",
   "pygments_lexer": "ipython3",
   "version": "3.9.7"
  }
 },
 "nbformat": 4,
 "nbformat_minor": 5
}
